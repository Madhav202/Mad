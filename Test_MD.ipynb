{
  "nbformat": 4,
  "nbformat_minor": 0,
  "metadata": {
    "colab": {
      "provenance": [],
      "authorship_tag": "ABX9TyM3KlXprvKcJvfesAECUnAv",
      "include_colab_link": true
    },
    "kernelspec": {
      "name": "python3",
      "display_name": "Python 3"
    },
    "language_info": {
      "name": "python"
    }
  },
  "cells": [
    {
      "cell_type": "markdown",
      "metadata": {
        "id": "view-in-github",
        "colab_type": "text"
      },
      "source": [
        "<a href=\"https://colab.research.google.com/github/Madhav202/Mad/blob/main/Test_MD.ipynb\" target=\"_parent\"><img src=\"https://colab.research.google.com/assets/colab-badge.svg\" alt=\"Open In Colab\"/></a>"
      ]
    },
    {
      "cell_type": "code",
      "source": [],
      "metadata": {
        "id": "hsjUf7y8ORHG"
      },
      "execution_count": 2,
      "outputs": []
    },
    {
      "cell_type": "code",
      "source": [
        "# A Python program to demonstrate the\n",
        "# working of the string template\n",
        "from string import Template\n",
        "\n",
        "# List Student stores the name and marks of three students\n",
        "Student = [('Ram',90), ('Ankit',78), ('Bob',92)]\n",
        "\n",
        "# We are creating a basic structure to print the name and\n",
        "# marks of the students.\n",
        "t = Template('Hi $name, you have got $marks marks')\n",
        "\n",
        "for i in Student:\n",
        "     print (t.substitute(name = i[0], marks = i[1]))"
      ],
      "metadata": {
        "colab": {
          "base_uri": "https://localhost:8080/"
        },
        "id": "nMhspW2OOa5A",
        "outputId": "af683b5c-867d-4521-9bbe-ed2a590aeb9b"
      },
      "execution_count": 3,
      "outputs": [
        {
          "output_type": "stream",
          "name": "stdout",
          "text": [
            "Hi Ram, you have got 90 marks\n",
            "Hi Ankit, you have got 78 marks\n",
            "Hi Bob, you have got 92 marks\n"
          ]
        }
      ]
    },
    {
      "cell_type": "code",
      "source": [
        "# A Simple Python template example\n",
        "from string import Template\n",
        "\n",
        "# Create a template that has placeholder for value of x\n",
        "t = Template('x is $x')\n",
        "\n",
        "# Substitute value of x in above template\n",
        "print (t.substitute({'x' : 1}))"
      ],
      "metadata": {
        "colab": {
          "base_uri": "https://localhost:8080/"
        },
        "id": "KeFuh_6PNest",
        "outputId": "1d90afbd-4167-430e-ac0a-f6cd49a66cb2"
      },
      "execution_count": 2,
      "outputs": [
        {
          "output_type": "stream",
          "name": "stdout",
          "text": [
            "x is 1\n"
          ]
        }
      ]
    }
  ]
}